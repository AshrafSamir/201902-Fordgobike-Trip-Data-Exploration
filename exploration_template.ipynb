{
 "cells": [
  {
   "cell_type": "markdown",
   "metadata": {},
   "source": [
    "# 201902 Fordgobike Trip Data Exploration\n",
    "## by (Ashraf Samir Ali)\n",
    "\n",
    "## Preliminary Wrangling\n",
    "\n",
    "This data set includes information about individual rides made in a bike-sharing system covering the greater San Francisco Bay area."
   ]
  },
  {
   "cell_type": "code",
   "execution_count": 60,
   "metadata": {},
   "outputs": [],
   "source": [
    "# import all packages and set plots to be embedded inline\n",
    "import numpy as np\n",
    "import pandas as pd\n",
    "import matplotlib.pyplot as plt\n",
    "import seaborn as sb\n",
    "\n",
    "%matplotlib inline"
   ]
  },
  {
   "cell_type": "markdown",
   "metadata": {},
   "source": [
    "> Load in your dataset and describe its properties through the questions below.\n",
    "Try and motivate your exploration goals through this section."
   ]
  },
  {
   "cell_type": "code",
   "execution_count": 61,
   "metadata": {},
   "outputs": [],
   "source": [
    "# load in the dataset into a pandas dataframe, print statistics\n",
    "fordgobike = pd.read_csv('201902-fordgobike-tripdata.csv')"
   ]
  },
  {
   "cell_type": "code",
   "execution_count": 62,
   "metadata": {},
   "outputs": [
    {
     "name": "stdout",
     "output_type": "stream",
     "text": [
      "(183412, 16)\n",
      "duration_sec                 int64\n",
      "start_time                  object\n",
      "end_time                    object\n",
      "start_station_id           float64\n",
      "start_station_name          object\n",
      "start_station_latitude     float64\n",
      "start_station_longitude    float64\n",
      "end_station_id             float64\n",
      "end_station_name            object\n",
      "end_station_latitude       float64\n",
      "end_station_longitude      float64\n",
      "bike_id                      int64\n",
      "user_type                   object\n",
      "member_birth_year          float64\n",
      "member_gender               object\n",
      "bike_share_for_all_trip     object\n",
      "dtype: object\n",
      "   duration_sec                start_time                  end_time  \\\n",
      "0         52185  2019-02-28 17:32:10.1450  2019-03-01 08:01:55.9750   \n",
      "1         42521  2019-02-28 18:53:21.7890  2019-03-01 06:42:03.0560   \n",
      "2         61854  2019-02-28 12:13:13.2180  2019-03-01 05:24:08.1460   \n",
      "3         36490  2019-02-28 17:54:26.0100  2019-03-01 04:02:36.8420   \n",
      "4          1585  2019-02-28 23:54:18.5490  2019-03-01 00:20:44.0740   \n",
      "5          1793  2019-02-28 23:49:58.6320  2019-03-01 00:19:51.7600   \n",
      "6          1147  2019-02-28 23:55:35.1040  2019-03-01 00:14:42.5880   \n",
      "7          1615  2019-02-28 23:41:06.7660  2019-03-01 00:08:02.7560   \n",
      "8          1570  2019-02-28 23:41:48.7900  2019-03-01 00:07:59.7150   \n",
      "9          1049  2019-02-28 23:49:47.6990  2019-03-01 00:07:17.0250   \n",
      "\n",
      "   start_station_id                                start_station_name  \\\n",
      "0              21.0  Montgomery St BART Station (Market St at 2nd St)   \n",
      "1              23.0                     The Embarcadero at Steuart St   \n",
      "2              86.0                           Market St at Dolores St   \n",
      "3             375.0                           Grove St at Masonic Ave   \n",
      "4               7.0                               Frank H Ogawa Plaza   \n",
      "5              93.0                      4th St at Mission Bay Blvd S   \n",
      "6             300.0                              Palm St at Willow St   \n",
      "7              10.0                        Washington St at Kearny St   \n",
      "8              10.0                        Washington St at Kearny St   \n",
      "9              19.0                              Post St at Kearny St   \n",
      "\n",
      "   start_station_latitude  start_station_longitude  end_station_id  \\\n",
      "0               37.789625              -122.400811            13.0   \n",
      "1               37.791464              -122.391034            81.0   \n",
      "2               37.769305              -122.426826             3.0   \n",
      "3               37.774836              -122.446546            70.0   \n",
      "4               37.804562              -122.271738           222.0   \n",
      "5               37.770407              -122.391198           323.0   \n",
      "6               37.317298              -121.884995           312.0   \n",
      "7               37.795393              -122.404770           127.0   \n",
      "8               37.795393              -122.404770           127.0   \n",
      "9               37.788975              -122.403452           121.0   \n",
      "\n",
      "                               end_station_name  end_station_latitude  \\\n",
      "0                Commercial St at Montgomery St             37.794231   \n",
      "1                            Berry St at 4th St             37.775880   \n",
      "2  Powell St BART Station (Market St at 4th St)             37.786375   \n",
      "3                        Central Ave at Fell St             37.773311   \n",
      "4                         10th Ave at E 15th St             37.792714   \n",
      "5                            Broadway at Kearny             37.798014   \n",
      "6                      San Jose Diridon Station             37.329732   \n",
      "7                        Valencia St at 21st St             37.756708   \n",
      "8                        Valencia St at 21st St             37.756708   \n",
      "9                            Mission Playground             37.759210   \n",
      "\n",
      "   end_station_longitude  bike_id   user_type  member_birth_year  \\\n",
      "0            -122.402923     4902    Customer             1984.0   \n",
      "1            -122.393170     2535    Customer                NaN   \n",
      "2            -122.404904     5905    Customer             1972.0   \n",
      "3            -122.444293     6638  Subscriber             1989.0   \n",
      "4            -122.248780     4898  Subscriber             1974.0   \n",
      "5            -122.405950     5200  Subscriber             1959.0   \n",
      "6            -121.901782     3803  Subscriber             1983.0   \n",
      "7            -122.421025     6329  Subscriber             1989.0   \n",
      "8            -122.421025     6548  Subscriber             1988.0   \n",
      "9            -122.421339     6488  Subscriber             1992.0   \n",
      "\n",
      "  member_gender bike_share_for_all_trip  \n",
      "0          Male                      No  \n",
      "1           NaN                      No  \n",
      "2          Male                      No  \n",
      "3         Other                      No  \n",
      "4          Male                     Yes  \n",
      "5          Male                      No  \n",
      "6        Female                      No  \n",
      "7          Male                      No  \n",
      "8         Other                      No  \n",
      "9          Male                      No  \n"
     ]
    }
   ],
   "source": [
    "# high-level overview of data shape and composition\n",
    "print(fordgobike.shape)\n",
    "print(fordgobike.dtypes)\n",
    "print(fordgobike.head(10))"
   ]
  },
  {
   "cell_type": "code",
   "execution_count": 63,
   "metadata": {},
   "outputs": [
    {
     "name": "stdout",
     "output_type": "stream",
     "text": [
      "<class 'pandas.core.frame.DataFrame'>\n",
      "RangeIndex: 183412 entries, 0 to 183411\n",
      "Data columns (total 16 columns):\n",
      " #   Column                   Non-Null Count   Dtype  \n",
      "---  ------                   --------------   -----  \n",
      " 0   duration_sec             183412 non-null  int64  \n",
      " 1   start_time               183412 non-null  object \n",
      " 2   end_time                 183412 non-null  object \n",
      " 3   start_station_id         183215 non-null  float64\n",
      " 4   start_station_name       183215 non-null  object \n",
      " 5   start_station_latitude   183412 non-null  float64\n",
      " 6   start_station_longitude  183412 non-null  float64\n",
      " 7   end_station_id           183215 non-null  float64\n",
      " 8   end_station_name         183215 non-null  object \n",
      " 9   end_station_latitude     183412 non-null  float64\n",
      " 10  end_station_longitude    183412 non-null  float64\n",
      " 11  bike_id                  183412 non-null  int64  \n",
      " 12  user_type                183412 non-null  object \n",
      " 13  member_birth_year        175147 non-null  float64\n",
      " 14  member_gender            175147 non-null  object \n",
      " 15  bike_share_for_all_trip  183412 non-null  object \n",
      "dtypes: float64(7), int64(2), object(7)\n",
      "memory usage: 22.4+ MB\n",
      "None\n"
     ]
    }
   ],
   "source": [
    "# observing how many columns with missing or null values. \n",
    "print(fordgobike.info())"
   ]
  },
  {
   "cell_type": "code",
   "execution_count": 64,
   "metadata": {},
   "outputs": [
    {
     "name": "stdout",
     "output_type": "stream",
     "text": [
      "        duration_sec  start_station_id  start_station_latitude  \\\n",
      "count  183412.000000     183215.000000           183412.000000   \n",
      "mean      726.078435        138.590427               37.771223   \n",
      "std      1794.389780        111.778864                0.099581   \n",
      "min        61.000000          3.000000               37.317298   \n",
      "25%       325.000000         47.000000               37.770083   \n",
      "50%       514.000000        104.000000               37.780760   \n",
      "75%       796.000000        239.000000               37.797280   \n",
      "max     85444.000000        398.000000               37.880222   \n",
      "\n",
      "       start_station_longitude  end_station_id  end_station_latitude  \\\n",
      "count            183412.000000   183215.000000         183412.000000   \n",
      "mean               -122.352664      136.249123             37.771427   \n",
      "std                   0.117097      111.515131              0.099490   \n",
      "min                -122.453704        3.000000             37.317298   \n",
      "25%                -122.412408       44.000000             37.770407   \n",
      "50%                -122.398285      100.000000             37.781010   \n",
      "75%                -122.286533      235.000000             37.797320   \n",
      "max                -121.874119      398.000000             37.880222   \n",
      "\n",
      "       end_station_longitude        bike_id  member_birth_year  \n",
      "count          183412.000000  183412.000000      175147.000000  \n",
      "mean             -122.352250    4472.906375        1984.806437  \n",
      "std                 0.116673    1664.383394          10.116689  \n",
      "min              -122.453704      11.000000        1878.000000  \n",
      "25%              -122.411726    3777.000000        1980.000000  \n",
      "50%              -122.398279    4958.000000        1987.000000  \n",
      "75%              -122.288045    5502.000000        1992.000000  \n",
      "max              -121.874119    6645.000000        2001.000000  \n"
     ]
    }
   ],
   "source": [
    "# descriptive statistics for numeric variables\n",
    "print(fordgobike.describe())"
   ]
  },
  {
   "cell_type": "code",
   "execution_count": 65,
   "metadata": {},
   "outputs": [
    {
     "data": {
      "text/plain": [
       "0"
      ]
     },
     "execution_count": 65,
     "metadata": {},
     "output_type": "execute_result"
    }
   ],
   "source": [
    "# check for duplicated rows\n",
    "fordgobike.duplicated().sum()"
   ]
  },
  {
   "cell_type": "markdown",
   "metadata": {},
   "source": [
    "### Issues That Found \n",
    "<ol>\n",
    "    <li>Start_time, end_time, start_station_id, end_station_id, member_birth_year incorrect datatypes.</li>\n",
    "    <li>No need for \".0\" in start/end_station_id after correcting the datatypes.</li>\n",
    "    <li>We could convert start_station_name, end_station_name, user_type, member_gender to category datatype.</li>\n",
    "    <li>six columns with null values.</li>\n",
    "</ol>"
   ]
  },
  {
   "cell_type": "markdown",
   "metadata": {},
   "source": [
    "### Cleaning"
   ]
  },
  {
   "cell_type": "markdown",
   "metadata": {},
   "source": [
    "#### Drop NaN rows"
   ]
  },
  {
   "cell_type": "code",
   "execution_count": 56,
   "metadata": {},
   "outputs": [
    {
     "data": {
      "text/plain": [
       "duration_sec               0\n",
       "start_time                 0\n",
       "end_time                   0\n",
       "start_station_id           0\n",
       "start_station_name         0\n",
       "start_station_latitude     0\n",
       "start_station_longitude    0\n",
       "end_station_id             0\n",
       "end_station_name           0\n",
       "end_station_latitude       0\n",
       "end_station_longitude      0\n",
       "bike_id                    0\n",
       "user_type                  0\n",
       "member_birth_year          0\n",
       "member_gender              0\n",
       "bike_share_for_all_trip    0\n",
       "dtype: int64"
      ]
     },
     "execution_count": 56,
     "metadata": {},
     "output_type": "execute_result"
    }
   ],
   "source": [
    "# columns with null values \n",
    "fordgobike.isnull().sum()"
   ]
  },
  {
   "cell_type": "code",
   "execution_count": 57,
   "metadata": {},
   "outputs": [],
   "source": [
    "# drop null values\n",
    "fordgobike.dropna(inplace=True)"
   ]
  },
  {
   "cell_type": "code",
   "execution_count": 59,
   "metadata": {},
   "outputs": [
    {
     "data": {
      "text/plain": [
       "duration_sec               0\n",
       "start_time                 0\n",
       "end_time                   0\n",
       "start_station_id           0\n",
       "start_station_name         0\n",
       "start_station_latitude     0\n",
       "start_station_longitude    0\n",
       "end_station_id             0\n",
       "end_station_name           0\n",
       "end_station_latitude       0\n",
       "end_station_longitude      0\n",
       "bike_id                    0\n",
       "user_type                  0\n",
       "member_birth_year          0\n",
       "member_gender              0\n",
       "bike_share_for_all_trip    0\n",
       "dtype: int64"
      ]
     },
     "execution_count": 59,
     "metadata": {},
     "output_type": "execute_result"
    }
   ],
   "source": [
    "# Test \n",
    "fordgobike.isnull().sum()"
   ]
  },
  {
   "cell_type": "markdown",
   "metadata": {},
   "source": [
    "### What is the structure of your dataset?\n",
    "\n",
    "> Your answer here!\n",
    "\n",
    "### What is/are the main feature(s) of interest in your dataset?\n",
    "\n",
    "> Your answer here!\n",
    "\n",
    "### What features in the dataset do you think will help support your investigation into your feature(s) of interest?\n",
    "\n",
    "> Your answer here!"
   ]
  },
  {
   "cell_type": "markdown",
   "metadata": {},
   "source": [
    "## Univariate Exploration\n",
    "\n",
    "> In this section, investigate distributions of individual variables. If\n",
    "you see unusual points or outliers, take a deeper look to clean things up\n",
    "and prepare yourself to look at relationships between variables."
   ]
  },
  {
   "cell_type": "code",
   "execution_count": null,
   "metadata": {},
   "outputs": [],
   "source": []
  },
  {
   "cell_type": "markdown",
   "metadata": {},
   "source": [
    "> Make sure that, after every plot or related series of plots, that you\n",
    "include a Markdown cell with comments about what you observed, and what\n",
    "you plan on investigating next."
   ]
  },
  {
   "cell_type": "code",
   "execution_count": null,
   "metadata": {},
   "outputs": [],
   "source": []
  },
  {
   "cell_type": "markdown",
   "metadata": {},
   "source": [
    "### Discuss the distribution(s) of your variable(s) of interest. Were there any unusual points? Did you need to perform any transformations?\n",
    "\n",
    "> Your answer here!\n",
    "\n",
    "### Of the features you investigated, were there any unusual distributions? Did you perform any operations on the data to tidy, adjust, or change the form of the data? If so, why did you do this?\n",
    "\n",
    "> Your answer here!"
   ]
  },
  {
   "cell_type": "markdown",
   "metadata": {},
   "source": [
    "## Bivariate Exploration\n",
    "\n",
    "> In this section, investigate relationships between pairs of variables in your\n",
    "data. Make sure the variables that you cover here have been introduced in some\n",
    "fashion in the previous section (univariate exploration)."
   ]
  },
  {
   "cell_type": "code",
   "execution_count": null,
   "metadata": {},
   "outputs": [],
   "source": []
  },
  {
   "cell_type": "markdown",
   "metadata": {},
   "source": [
    "### Talk about some of the relationships you observed in this part of the investigation. How did the feature(s) of interest vary with other features in the dataset?\n",
    "\n",
    "> Your answer here!\n",
    "\n",
    "### Did you observe any interesting relationships between the other features (not the main feature(s) of interest)?\n",
    "\n",
    "> Your answer here!"
   ]
  },
  {
   "cell_type": "markdown",
   "metadata": {},
   "source": [
    "## Multivariate Exploration\n",
    "\n",
    "> Create plots of three or more variables to investigate your data even\n",
    "further. Make sure that your investigations are justified, and follow from\n",
    "your work in the previous sections."
   ]
  },
  {
   "cell_type": "code",
   "execution_count": null,
   "metadata": {},
   "outputs": [],
   "source": []
  },
  {
   "cell_type": "markdown",
   "metadata": {},
   "source": [
    "### Talk about some of the relationships you observed in this part of the investigation. Were there features that strengthened each other in terms of looking at your feature(s) of interest?\n",
    "\n",
    "> Your answer here!\n",
    "\n",
    "### Were there any interesting or surprising interactions between features?\n",
    "\n",
    "> Your answer here!"
   ]
  },
  {
   "cell_type": "markdown",
   "metadata": {},
   "source": [
    "> At the end of your report, make sure that you export the notebook as an\n",
    "html file from the `File > Download as... > HTML` menu. Make sure you keep\n",
    "track of where the exported file goes, so you can put it in the same folder\n",
    "as this notebook for project submission. Also, make sure you remove all of\n",
    "the quote-formatted guide notes like this one before you finish your report!"
   ]
  },
  {
   "cell_type": "code",
   "execution_count": null,
   "metadata": {},
   "outputs": [],
   "source": []
  }
 ],
 "metadata": {
  "kernelspec": {
   "display_name": "Python 3 (ipykernel)",
   "language": "python",
   "name": "python3"
  },
  "language_info": {
   "codemirror_mode": {
    "name": "ipython",
    "version": 3
   },
   "file_extension": ".py",
   "mimetype": "text/x-python",
   "name": "python",
   "nbconvert_exporter": "python",
   "pygments_lexer": "ipython3",
   "version": "3.8.11"
  }
 },
 "nbformat": 4,
 "nbformat_minor": 2
}
